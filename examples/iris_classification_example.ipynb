{
  "nbformat": 4,
  "nbformat_minor": 0,
  "metadata": {
    "colab": {
      "name": "iris_classification_example.ipynb",
      "provenance": [],
      "collapsed_sections": [
        "5Xt7Gwz8Stxa",
        "vZEN-d_yJLo7"
      ],
      "toc_visible": true
    },
    "kernelspec": {
      "display_name": "Python 3",
      "name": "python3"
    }
  },
  "cells": [
    {
      "cell_type": "markdown",
      "metadata": {
        "id": "5Xt7Gwz8Stxa"
      },
      "source": [
        "# Import de fonctions"
      ]
    },
    {
      "cell_type": "code",
      "metadata": {
        "id": "8-9J91SwPO3F"
      },
      "source": [
        "from sklearn.cluster import KMeans, AgglomerativeClustering, DBSCAN\n",
        "from sklearn.preprocessing import StandardScaler\n",
        "from sklearn.mixture import GaussianMixture\n",
        "from sklearn.cluster import KMeans, DBSCAN\n",
        "from sklearn.metrics import accuracy_score\n",
        "from sklearn.datasets import load_iris\n",
        "from sklearn.manifold import TSNE\n",
        "import matplotlib.pyplot as plt\n",
        "import numpy as np\n",
        "import sys\n",
        "\n",
        "# import UCSL github : Unsupervised Clustering driven by Supervised Learning \n",
        "!git clone -b sklearn_update https://github.com/rlouiset/py_ucsl > /dev/null 2>&1\n",
        "\n",
        "\"-b sklearn_update \"\n",
        "\n",
        "sys.path.append('./py_ucsl/')\n",
        "from ucsl.ucsl_classifier import *\n",
        "from ucsl.ucsl_regressor import *"
      ],
      "execution_count": 1,
      "outputs": []
    },
    {
      "cell_type": "markdown",
      "metadata": {
        "id": "vZEN-d_yJLo7"
      },
      "source": [
        "# Import data"
      ]
    },
    {
      "cell_type": "code",
      "metadata": {
        "colab": {
          "base_uri": "https://localhost:8080/",
          "height": 0
        },
        "id": "wu2hl8pakqRm",
        "outputId": "fc4c1cdf-5bff-4313-afae-fb243a51d215"
      },
      "source": [
        "# load iris dataset\n",
        "iris = load_iris()\n",
        "X_train = iris.data\n",
        "\n",
        "# normalize training features\n",
        "scaler = StandardScaler()\n",
        "X_train = scaler.fit_transform(X_train)\n",
        "y_train = iris.target\n",
        "\n",
        "# project both on tSNE\n",
        "tsne = TSNE(n_components=2)\n",
        "X_train_tsne = tsne.fit_transform(X_train)\n",
        "X_train_tsne = scaler.fit_transform(X_train_tsne)\n",
        "\n",
        "# plot t-SNE feature projection\n",
        "fig, ax = plt.subplots()\n",
        "labels_map = {0:\"Setosa\", 1: \"Versicolor\", 2:\"Virginica\"}\n",
        "labels = [labels_map[y_i] for y_i in y_train]\n",
        "scatter = ax.scatter(X_train_tsne[:, 0], X_train_tsne[:, 1], c=y_train, s=50, alpha=0.7, label=labels)\n",
        "ax.legend(*scatter.legend_elements(), title=\"flowers\")\n",
        "plt.title(\"t-SNE plot of iris datset features\")\n",
        "plt.show()"
      ],
      "execution_count": 2,
      "outputs": [
        {
          "output_type": "display_data",
          "data": {
            "image/png": "[encoded data removed]",
            "text/plain": [
              "<Figure size 432x288 with 1 Axes>"
            ]
          },
          "metadata": {
            "needs_background": "light"
          }
        }
      ]
    },
    {
      "cell_type": "markdown",
      "metadata": {
        "id": "t-kk1lR-ksE_"
      },
      "source": [
        "# Iris unsupervised classification"
      ]
    },
    {
      "cell_type": "code",
      "metadata": {
        "id": "BMWNvqkgllqx",
        "colab": {
          "base_uri": "https://localhost:8080/"
        },
        "outputId": "9090360d-b942-423d-f447-cd3a2d436db3"
      },
      "source": [
        "# one by one separate one flower form the two other, cluster the two other and check the supervised metrics\n",
        "for neg_label in [0, 1, 2] :\n",
        "  if neg_label == 0 :\n",
        "    pos_label=1\n",
        "    training_label_mapping={0:0, 1:1, 2:1}\n",
        "    mapping={0:None, 1:1, 2:0}\n",
        "  if neg_label == 1 :\n",
        "    pos_label=0\n",
        "    training_label_mapping={0:0, 1:1, 2:0}\n",
        "    mapping={0:0, 1:None, 2:1}\n",
        "  if neg_label == 2 :\n",
        "    pos_label=0\n",
        "    training_label_mapping={0:0, 1:0, 2:1}\n",
        "    mapping={0:0, 1:1, 2:None}\n",
        "\n",
        "  print(\"The label not to cluster is : \", neg_label)\n",
        "\n",
        "  # UCSL training\n",
        "  clustering_method = KMeans(n_clusters=2)\n",
        "  classification_method = SVC(kernel=\"linear\")\n",
        "  UCSL_method = UCSL_C(training_label_mapping=training_label_mapping, n_clusters=2, label_to_cluster=pos_label,\n",
        "                      clustering=clustering_method, maximization=classification_method)\n",
        "  UCSL_method = UCSL_method.fit(X_train, y_train)\n",
        "\n",
        "  # KMeans training\n",
        "  KMeans_method = KMeans(n_clusters=2)\n",
        "  KMeans_method = KMeans_method.fit(X_train[y_train!=neg_label])\n",
        "\n",
        "  # GaussianMixture training\n",
        "  GaussianMixture_method = GaussianMixture(n_components=2)\n",
        "  GaussianMixture_method = GaussianMixture_method.fit(X_train[y_train!=neg_label])\n",
        "\n",
        "  # DBSCAN training\n",
        "  DBSCAN_method = DBSCAN()\n",
        "  DBSCAN_method = DBSCAN_method.fit(X_train[y_train!=neg_label])\n",
        "\n",
        "  # Agglomerative Clustering training\n",
        "  AgglomerativeClustering_method = AgglomerativeClustering(n_clusters=2)\n",
        "  AgglomerativeClustering_method = AgglomerativeClustering_method.fit(X_train[y_train!=neg_label])\n",
        "\n",
        "  # SVM training\n",
        "  SVM_method = SVC()\n",
        "  ground_truth = y_train[y_train!=(neg_label)]\n",
        "  ground_truth = [mapping[i] for i in ground_truth]\n",
        "  SVM_method = SVM_method.fit(X_train[y_train!=neg_label], ground_truth)\n",
        "\n",
        "  ##############################################################################\n",
        "\n",
        "  # UCSL predictions\n",
        "  y_ones, y_pred = UCSL_method.predict(X_train, pos_label*np.ones(len(X_train)))\n",
        "  predictions = y_pred[y_train!=(neg_label)]\n",
        "  ground_truth = y_train[y_train!=(neg_label)]\n",
        "  ground_truth = [mapping[i] for i in ground_truth]\n",
        "  print(\"UCSL : \", max(accuracy_score(ground_truth, predictions), accuracy_score(ground_truth, 1-predictions)))\n",
        "\n",
        "  # KMeans predictions\n",
        "  y_pred = KMeans_method.predict(X_train)\n",
        "  predictions = y_pred[y_train!=(neg_label)]\n",
        "  ground_truth = y_train[y_train!=(neg_label)]\n",
        "  ground_truth = [mapping[i] for i in ground_truth]\n",
        "  print(\"KMeans : \", max(accuracy_score(ground_truth, predictions), accuracy_score(ground_truth, 1-predictions)))\n",
        "\n",
        "  # GaussianMixture predictions\n",
        "  y_pred = GaussianMixture_method.predict(X_train)\n",
        "  predictions = y_pred[y_train!=(neg_label)]\n",
        "  ground_truth = y_train[y_train!=(neg_label)]\n",
        "  ground_truth = [mapping[i] for i in ground_truth]\n",
        "  print(\"GaussianMixture : \", max(accuracy_score(ground_truth, predictions), accuracy_score(ground_truth, 1-predictions)))\n",
        "\n",
        "  # DBSCAN predictions\n",
        "  y_pred = DBSCAN_method.fit_predict(X_train[y_train!=(neg_label)])\n",
        "  predictions = y_pred\n",
        "  ground_truth = y_train[y_train!=(neg_label)]\n",
        "  ground_truth = [mapping[i] for i in ground_truth]\n",
        "  print(\"DBSCAN : \", max(accuracy_score(ground_truth, predictions), accuracy_score(ground_truth, 1-predictions)))\n",
        "\n",
        "  # AgglomerativeClustering predictions\n",
        "  y_pred = AgglomerativeClustering_method.fit_predict(X_train[y_train!=(neg_label)])\n",
        "  predictions = y_pred\n",
        "  ground_truth = y_train[y_train!=(neg_label)]\n",
        "  ground_truth = [mapping[i] for i in ground_truth]\n",
        "  print(\"AgglomerativeClustering : \", max(accuracy_score(ground_truth, predictions), accuracy_score(ground_truth, 1-predictions)))\n",
        "\n",
        "  # SVM predictions\n",
        "  y_pred = SVM_method.predict(X_train)\n",
        "  predictions = y_pred[y_train!=(neg_label)]\n",
        "  ground_truth = y_train[y_train!=(neg_label)]\n",
        "  ground_truth = [mapping[i] for i in ground_truth]\n",
        "  print(\"SVM : \", max(accuracy_score(ground_truth, predictions), accuracy_score(ground_truth, 1-predictions)))\n",
        "\n",
        "  print('--------------------------------------------------------------------')"
      ],
      "execution_count": 3,
      "outputs": [
        {
          "output_type": "stream",
          "name": "stdout",
          "text": [
            "The label not to cluster is :  0\n",
            "UCSL :  0.82\n",
            "KMeans :  0.75\n",
            "GaussianMixture :  0.95\n",
            "DBSCAN :  0.39\n",
            "AgglomerativeClustering :  0.76\n",
            "SVM :  0.96\n",
            "--------------------------------------------------------------------\n",
            "The label not to cluster is :  1\n",
            "UCSL :  1.0\n",
            "KMeans :  1.0\n",
            "GaussianMixture :  1.0\n",
            "DBSCAN :  0.64\n",
            "AgglomerativeClustering :  1.0\n",
            "SVM :  1.0\n",
            "--------------------------------------------------------------------\n",
            "The label not to cluster is :  2\n",
            "UCSL :  1.0\n",
            "KMeans :  1.0\n",
            "GaussianMixture :  1.0\n",
            "DBSCAN :  0.82\n",
            "AgglomerativeClustering :  0.99\n",
            "SVM :  1.0\n",
            "--------------------------------------------------------------------\n"
          ]
        }
      ]
    }
  ]
}